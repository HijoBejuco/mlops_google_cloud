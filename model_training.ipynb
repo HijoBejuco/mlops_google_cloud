{
 "cells": [
  {
   "cell_type": "markdown",
   "metadata": {},
   "source": [
    "#### **Model Training and optimization using VERTEX AI EXPERIMENTS**\n",
    "\n",
    "Here, we are going to train and optimize different ML models. And then, we'll choose the best one. \n",
    "\n",
    "Also, we are going to use the VERTEX AI EXPERIMENTS, which let us tack the parameters and results for every model we train here..."
   ]
  },
  {
   "cell_type": "code",
   "execution_count": null,
   "metadata": {},
   "outputs": [],
   "source": [
    "# Import all libraries needed to interact with GCP and to \n",
    "# train and test different kind of ML models\n",
    "import os\n",
    "import sys\n",
    "import tempfile\n",
    "\n",
    "import pickle\n",
    "from google.cloud import aiplatform\n",
    "from google.cloud import storage\n",
    "import pandas_gbq as pdg\n",
    "from sklearn.model_selection import train_test_split\n",
    "from sklearn.preprocessing import MinMaxScaler\n",
    "from sklearn.linear_model import LogisticRegression\n",
    "from sklearn.neighbors import KNeighborsClassifier\n",
    "from sklearn.svm import SVC\n",
    "from sklearn.naive_bayes import GaussianNB\n",
    "from sklearn.tree import DecisionTreeClassifier\n",
    "from sklearn.ensemble import RandomForestClassifier\n",
    "from sklearn.model_selection import GridSearchCV\n",
    "from sklearn.metrics import accuracy_score,mean_squared_error,r2_score\n",
    "from sklearn.pipeline import Pipeline\n",
    "from dotenv import load_dotenv\n",
    "\n",
    "src_path = os.path.dirname(os.getcwd())\n",
    "sys.path.append(src_path)\n",
    "\n",
    "load_dotenv()"
   ]
  },
  {
   "cell_type": "code",
   "execution_count": null,
   "metadata": {},
   "outputs": [],
   "source": [
    "# HERE WE NEED TO CONFIGURE ALL ENVIRONMENTAL VARIABLES WE NEED TO RUN THIS NOTEBOOK..\n",
    "# THIS STEP IS NEEDED. "
   ]
  },
  {
   "cell_type": "markdown",
   "metadata": {},
   "source": [
    "### **Extract the information from G.BigQuery**"
   ]
  },
  {
   "cell_type": "code",
   "execution_count": null,
   "metadata": {},
   "outputs": [],
   "source": [
    "query = f'SELECT * FROM {train_table}'\n",
    "data = pdg.read_gbq(query, project_id=GCP_PROJECT, use_bqstorage_api=True)\n",
    "\n",
    "data.head(10)"
   ]
  },
  {
   "cell_type": "code",
   "execution_count": null,
   "metadata": {},
   "outputs": [],
   "source": []
  },
  {
   "cell_type": "code",
   "execution_count": null,
   "metadata": {},
   "outputs": [],
   "source": []
  },
  {
   "cell_type": "code",
   "execution_count": null,
   "metadata": {},
   "outputs": [],
   "source": []
  }
 ],
 "metadata": {
  "language_info": {
   "name": "python"
  }
 },
 "nbformat": 4,
 "nbformat_minor": 2
}
