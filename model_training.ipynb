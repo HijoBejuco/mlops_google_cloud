{
 "cells": [
  {
   "cell_type": "markdown",
   "metadata": {},
   "source": [
    "#### **Model Training and optimization using VERTEX AI EXPERIMENTS**\n",
    "\n",
    "Here, we are going to train and optimize different ML models. And then, we'll choose the best one. \n",
    "\n",
    "Also, we are going to use the VERTEX AI EXPERIMENTS, which let us tack the parameters and results for every model we train here. "
   ]
  },
  {
   "cell_type": "code",
   "execution_count": null,
   "metadata": {},
   "outputs": [],
   "source": []
  },
  {
   "cell_type": "code",
   "execution_count": null,
   "metadata": {},
   "outputs": [],
   "source": []
  },
  {
   "cell_type": "code",
   "execution_count": null,
   "metadata": {},
   "outputs": [],
   "source": []
  }
 ],
 "metadata": {
  "language_info": {
   "name": "python"
  }
 },
 "nbformat": 4,
 "nbformat_minor": 2
}
